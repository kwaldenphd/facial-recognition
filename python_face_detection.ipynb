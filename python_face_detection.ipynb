{
  "nbformat": 4,
  "nbformat_minor": 0,
  "metadata": {
    "colab": {
      "name": "python-face-detection.ipynb",
      "provenance": [],
      "toc_visible": true,
      "authorship_tag": "ABX9TyNpg/2ozOg/Rnnev/LufbkX",
      "include_colab_link": true
    },
    "kernelspec": {
      "name": "python3",
      "display_name": "Python 3"
    },
    "language_info": {
      "name": "python"
    }
  },
  "cells": [
    {
      "cell_type": "markdown",
      "metadata": {
        "id": "view-in-github",
        "colab_type": "text"
      },
      "source": [
        "<a href=\"https://colab.research.google.com/github/kwaldenphd/facial-recognition/blob/main/python_face_detection.ipynb\" target=\"_parent\"><img src=\"https://colab.research.google.com/assets/colab-badge.svg\" alt=\"Open In Colab\"/></a>"
      ]
    },
    {
      "cell_type": "markdown",
      "source": [
        "# Prompt #7: Hands-On Work With Face Detection (Facial Recognition and Racialized Surveillance in Law Enforcement Lab)\n",
        "\n",
        "<a href=\"http://creativecommons.org/licenses/by-nc/4.0/\" rel=\"license\"><img style=\"border-width: 0;\" src=\"https://i.creativecommons.org/l/by-nc/4.0/88x31.png\" alt=\"Creative Commons License\" /></a>\n",
        "This tutorial is licensed under a <a href=\"http://creativecommons.org/licenses/by-nc/4.0/\" rel=\"license\">Creative Commons Attribution-NonCommercial 4.0 International License</a>."
      ],
      "metadata": {
        "id": "hg6yrB3DnKB7"
      }
    },
    {
      "cell_type": "markdown",
      "source": [
        "## Acknowledgements\n",
        "\n",
        "This tutorial is based on and adapted from: Kristijan Ivancic, [\"Traditional Face Detection With Python\"](https://realpython.com/traditional-face-detection-python/) *Real Python*\n",
        "\n"
      ],
      "metadata": {
        "id": "kYAvJqBnpCAO"
      }
    },
    {
      "cell_type": "markdown",
      "source": [
        "# Overview\n",
        "\n",
        "This Jupyter Notebook walks through Kristijan Ivancic's [\"Traditional Face Detection With Python\"](https://realpython.com/traditional-face-detection-python/) *Real Python* tutorial.\n",
        "\n",
        "The \"Additional Resources\" section at the end of the lab includes links to other tutorials for folks who want to explore alternate workflows.\n",
        "\n",
        "Reflection questions:\n",
        "- What challenges did you face, and how did you solve them?\n",
        "- What did you learn about facial recognition/face detection through the tutorial you looked at?\n",
        "- How are you thinking about facial recognition/face detection differently after working through a tutorial?\n",
        "  * Where and how do we see race and surveillance at work\n",
        "  * Connections with class content or discussions\n",
        "- Other comments/questions/observations\n",
        "\n",
        "You're welcome (but not required) to include code and/or screenshots as part of that narrative."
      ],
      "metadata": {
        "id": "5yuAmvxcoJ2G"
      }
    },
    {
      "cell_type": "markdown",
      "source": [
        "## Background\n",
        "\n",
        "From Kristijan Ivancic's [\"Traditional Face Detection With Python\"](https://realpython.com/traditional-face-detection-python/) tutorial: \n",
        "\n",
        "<blockquote><p>Computer vision is an exciting and growing field. There are tons of interesting problems to solve! One of them is face detection: the ability of a computer to recognize that a photograph contains a human face, and tell you where it is located. In this article, you’ll learn about face detection with Python.</p>\n",
        "\n",
        "<p>To detect any object in an image, it is necessary to understand how images are represented inside a computer, and how that object differs visually from any other object.</p>\n",
        "\n",
        "<p>Once that is done, the process of scanning an image and looking for those visual cues needs to be automated and optimized. All these steps come together to form a fast and reliable computer vision algorithm.</p></blockquote>"
      ],
      "metadata": {
        "id": "NYU3tLaDJAkJ"
      }
    },
    {
      "cell_type": "markdown",
      "source": [
        "## Terminology\n",
        "\n",
        "NOTE: This section is based on/adapted from Kristijan Ivancic's [\"Traditional Face Detection With Python\"](https://realpython.com/traditional-face-detection-python/) tutorial."
      ],
      "metadata": {
        "id": "j4UWlNYOp332"
      }
    },
    {
      "cell_type": "markdown",
      "source": [
        "### Face Detection\n",
        "\n",
        "From Kristijan Ivancic's [\"Traditional Face Detection With Python\"](https://realpython.com/traditional-face-detection-python/) tutorial: \n",
        "\n",
        "<blockquote><p>Face detection is a type of computer vision technology that is able to identify people’s faces within digital images. This is very easy for humans, but computers need precise instructions. The images might contain many objects that aren’t human faces, like buildings, cars, animals, and so on.</p>\n",
        "\n",
        "<p>It is distinct from other computer vision technologies that involve human faces, like facial recognition, analysis, and tracking.</p></blockquote>"
      ],
      "metadata": {
        "id": "-tha3i_CqC1l"
      }
    },
    {
      "cell_type": "markdown",
      "source": [
        "### Facial Recognition\n",
        "\n",
        "From Kristijan Ivancic's [\"Traditional Face Detection With Python\"](https://realpython.com/traditional-face-detection-python/) tutorial: \n",
        "<blockquote><p>Facial recognition involves identifying the face in the image as belonging to person X and not person Y. It is often used for biometric purposes, like unlocking your smartphone.</p></blockquote>"
      ],
      "metadata": {
        "id": "G4bvECNdqTjq"
      }
    },
    {
      "cell_type": "markdown",
      "source": [
        "### Facial Analysis\n",
        "\n",
        "From Kristijan Ivancic's [\"Traditional Face Detection With Python\"](https://realpython.com/traditional-face-detection-python/) tutorial: \n",
        "<blockquote><p>Facial analysis tries to understand something about people from their facial features, like determining their age, gender, or the emotion they are displaying.</p></blockquote>"
      ],
      "metadata": {
        "id": "ez1d4iP9qZdx"
      }
    },
    {
      "cell_type": "markdown",
      "source": [
        "### Facial Tracking\n",
        "\n",
        "From Kristijan Ivancic's [\"Traditional Face Detection With Python\"](https://realpython.com/traditional-face-detection-python/) tutorial: \n",
        "<blockquote><p>Facial tracking is mostly present in video analysis and tries to follow a face and its features (eyes, nose, and lips) from frame to frame. The most popular applications are various filters available in mobile apps like Snapchat.</p></blockquote>"
      ],
      "metadata": {
        "id": "aNR8bIyKqfNa"
      }
    },
    {
      "cell_type": "markdown",
      "source": [
        "## How Computers 'See' Images\n",
        "\n",
        "From Kristijan Ivancic's [\"Traditional Face Detection With Python\"](https://realpython.com/traditional-face-detection-python/) tutorial: \n",
        "\n",
        "<blockquote><p>The smallest element of an image is called a pixel, or a picture element. It is basically a dot in the picture. An image contains multiple pixels arranged in rows and columns.</p>\n",
        "\n",
        "<p>You will often see the number of rows and columns expressed as the image resolution. For example, an Ultra HD TV has the resolution of 3840x2160, meaning it is 3840 pixels wide and 2160 pixels high.</p>\n",
        "\n",
        "<p>But a computer does not understand pixels as dots of color. It only understands numbers. To convert colors to numbers, the computer uses various color models.</p>\n",
        "\n",
        "<p>In color images, pixels are often represented in the RGB color model. RGB stands for Red Green Blue. Each pixel is a mix of those three colors. RGB is great at modeling all the colors humans perceive by combining various amounts of red, green, and blue.</p>\n",
        "\n",
        "<p>Since a computer only understand numbers, every pixel is represented by three numbers, corresponding to the amounts of red, green, and blue present in that pixel.</p>\n",
        "\n",
        "<p>In grayscale (black and white) images, each pixel is a single number, representing the amount of light, or intensity, it carries. In many applications, the range of intensities is from 0 (black) to 255 (white). Everything between 0 and 255 is various shades of gray.</p>\n",
        "\n",
        "<p>If each grayscale pixel is a number, an image is nothing more than a matrix (or table) of numbers:</p>\n",
        "\n",
        "<fig>\n",
        "\n",
        "<p align='center'><img src=\"https://files.realpython.com/media/3x3.602445ad9862.png\" alt=\"Example 3x3 image with pixel values and colors\"</p>\n",
        "\n",
        "<figcaption><p align=\"center\"><em>Example 3x3 image with pixel values and colors</em></p></figcaption>\n",
        "\n",
        "</fig>\n",
        "\n",
        "<p>In color images, there are three such matrices representing the red, green, and blue channels.</p></blockquote>"
      ],
      "metadata": {
        "id": "BfkflpdjqkGa"
      }
    },
    {
      "cell_type": "markdown",
      "source": [
        "## Understanding Features\n",
        "\n",
        "From Kristijan Ivancic's [\"Traditional Face Detection With Python\"](https://realpython.com/traditional-face-detection-python/) tutorial: \n",
        "<blockquote><p>A feature is a piece of information in an image that is relevant to solving a certain problem. It could be something as simple as a single pixel value, or more complex like edges, corners, and shapes. You can combine multiple simple features into a complex feature.</p>\n",
        "\n",
        "<p>Applying certain operations to an image produces information that could be considered features as well. Computer vision and image processing have a large collection of useful features and feature extracting operations.</p>\n",
        "\n",
        "Basically, any inherent or derived property of an image could be used as a feature to solve tasks.</p></blockquote>"
      ],
      "metadata": {
        "id": "aFT_96JCqn-b"
      }
    },
    {
      "cell_type": "markdown",
      "source": [
        "# Setup and Environment\n",
        "\n",
        "Face detection in Python relies on a few key libraries.\n",
        "\n",
        "- [`scikit-image`](https://scikit-image.org/)\n",
        "- [`scikit-learn`](https://scikit-learn.org/stable/)\n",
        "- [`open-cv`](https://docs.opencv.org/4.x/index.html)\n",
        "\n",
        "A couple of other libraries/packages you may need depending on which tutorial you follow.\n",
        "- [`dlib`](http://dlib.net/)\n",
        "- [`face_recognition`](https://github.com/ageitgey/face_recognition)\n",
        "- [`imutils`](https://github.com/PyImageSearch/imutils)\n",
        "- For Windows/PC Users:\n",
        "  * [`pygrabber`](https://github.com/bunkahle/pygrabber)\n",
        "  * [`comtypes`](https://pythonhosted.org/comtypes/)\n",
        "\n",
        "Code to run to install these libraries/packages:"
      ],
      "metadata": {
        "id": "ex_moE8RoLq_"
      }
    },
    {
      "cell_type": "code",
      "source": [
        "# import sys\n",
        "import sys\n",
        "\n",
        "# install packages\n",
        "!{sys.executable} -m pip install scikit-learn\n",
        "!{sys.executable} -m pip install scikit-image\n",
        "!{sys.executable} -m pip install opencv3\n",
        "!{sys.executable} -m pip install face_recognition\n",
        "!{sys.executable} -m pip install imutils\n",
        "!{sys.executable} -m pip install dlib"
      ],
      "metadata": {
        "id": "b_Pe3ExktNma"
      },
      "execution_count": null,
      "outputs": []
    },
    {
      "cell_type": "code",
      "source": [
        "# for windows/PC users\n",
        "!{sys.executable} -m pip install pygrabber\n",
        "!{sys.executable} -m pip install comtypes"
      ],
      "metadata": {
        "colab": {
          "base_uri": "https://localhost:8080/"
        },
        "id": "fnmDQd3fFNoT",
        "outputId": "6ec00320-ade9-4f27-a3bf-7c65d704dc21"
      },
      "execution_count": 76,
      "outputs": [
        {
          "output_type": "stream",
          "name": "stdout",
          "text": [
            "Requirement already satisfied: pygrabber in /usr/local/lib/python3.7/dist-packages (0.1)\n",
            "Requirement already satisfied: comtypes>=1.1.7 in /usr/local/lib/python3.7/dist-packages (from pygrabber) (1.1.11)\n",
            "Requirement already satisfied: numpy>=1.17.3 in /usr/local/lib/python3.7/dist-packages (from pygrabber) (1.21.5)\n",
            "Requirement already satisfied: comtypes in /usr/local/lib/python3.7/dist-packages (1.1.11)\n"
          ]
        }
      ]
    },
    {
      "cell_type": "markdown",
      "source": [
        "# Viola-Jones Object Detection Framework\n",
        "\n",
        "Before jumping into the code, head to Kristijan Ivancic's [\"Traditional Face Detection With Python\"](https://realpython.com/traditional-face-detection-python/#viola-jones-object-detection-framework/) tutorial to learn more about the Viola-Jones algorithm.\n",
        "\n",
        "You'll also need an image to use for face detection. \n",
        "- You can use an image on your local computer (move into same folder as Jupyter Notebook or upload to Google CoLab)\n",
        "- Sample image from Wikimedia: [1913 Notre dame football team](https://commons.wikimedia.org/wiki/File:Notre_Dame_football_team,_1913.JPG)\n",
        "\n",
        "First thing we'll do is load the image (from a URL or image file) and convert to grayscale."
      ],
      "metadata": {
        "id": "toQne4SfoP2t"
      }
    },
    {
      "cell_type": "code",
      "source": [
        "# import statements\n",
        "import cv2\n",
        "import urllib\n",
        "import numpy as np\n",
        "from skimage import io\n",
        "\n",
        "# load image from file\n",
        "# original_image = cv.imread(\"FILE.EXTENSION\")\n",
        "\n",
        "# image url\n",
        "url = \"https://upload.wikimedia.org/wikipedia/commons/3/32/Notre_Dame_football_team%2C_1913.JPG\"\n",
        "\n",
        "# load image from url\n",
        "original_image = io.imread(url)\n",
        "\n",
        "# convert color image to grayscale\n",
        "grayscale_image = cv2.cvtColor(original_image, cv2.COLOR_BGR2RGB)\n",
        "\n",
        "# show grayscale image data\n",
        "grayscale_image"
      ],
      "metadata": {
        "id": "CQGmLbbf5Ops"
      },
      "execution_count": null,
      "outputs": []
    },
    {
      "cell_type": "markdown",
      "source": [
        "Then, we'll load the Viola-Jones classifier and run it on the image (using the `detectMultiScale()` method from the `face_cascade` object)."
      ],
      "metadata": {
        "id": "WBTLZ-oM6tp5"
      }
    },
    {
      "cell_type": "code",
      "source": [
        "# load classifier from url\n",
        "!wget https://raw.githubusercontent.com/opencv/opencv/master/data/haarcascades/haarcascade_frontalface_alt.xml -P drive/gaze"
      ],
      "metadata": {
        "colab": {
          "base_uri": "https://localhost:8080/"
        },
        "id": "jFKnHAVz8u9H",
        "outputId": "470b3b22-f8e2-41f0-bb91-8a4622dee856"
      },
      "execution_count": 24,
      "outputs": [
        {
          "output_type": "stream",
          "name": "stdout",
          "text": [
            "--2022-03-30 17:50:40--  https://raw.githubusercontent.com/opencv/opencv/master/data/haarcascades/haarcascade_frontalface_alt.xml\n",
            "Resolving raw.githubusercontent.com (raw.githubusercontent.com)... 185.199.108.133, 185.199.109.133, 185.199.110.133, ...\n",
            "Connecting to raw.githubusercontent.com (raw.githubusercontent.com)|185.199.108.133|:443... connected.\n",
            "HTTP request sent, awaiting response... 200 OK\n",
            "Length: 676709 (661K) [text/plain]\n",
            "Saving to: ‘drive/gaze/haarcascade_frontalface_alt.xml’\n",
            "\n",
            "\r          haarcasca   0%[                    ]       0  --.-KB/s               \rhaarcascade_frontal 100%[===================>] 660.85K  --.-KB/s    in 0.007s  \n",
            "\n",
            "2022-03-30 17:50:40 (96.2 MB/s) - ‘drive/gaze/haarcascade_frontalface_alt.xml’ saved [676709/676709]\n",
            "\n"
          ]
        }
      ]
    },
    {
      "cell_type": "code",
      "source": [
        "# set file path\n",
        "cascades_path = 'drive/gaze/' \n",
        "\n",
        "# load classifier from file and create cascade object\n",
        "face_cascade = cv.CascadeClassifier(cascades_path + 'haarcascade_frontalface_alt.xml')"
      ],
      "metadata": {
        "id": "Jwmx1yZa67cy"
      },
      "execution_count": 33,
      "outputs": []
    },
    {
      "cell_type": "code",
      "source": [
        "# run detection algorithm on image\n",
        "detected_faces = face_cascade.detectMultiScale(grayscale_image)"
      ],
      "metadata": {
        "id": "047R2g787xOi"
      },
      "execution_count": 34,
      "outputs": []
    },
    {
      "cell_type": "markdown",
      "source": [
        "Now we can use a `for` loop to draw the pixel coordinates in `detected_faces`."
      ],
      "metadata": {
        "id": "xTrcD2bK9RBJ"
      }
    },
    {
      "cell_type": "code",
      "source": [
        "# import statement (if working in colab)\n",
        "from google.colab.patches import cv2_imshow\n",
        "\n",
        "# for loop to create rectangles\n",
        "for (column, row, width, height) in detected_faces:\n",
        "    cv2.rectangle(\n",
        "        original_image,\n",
        "        (column, row),\n",
        "        (column + width, row + height),\n",
        "        (0, 255, 0),\n",
        "        2\n",
        "    )\n",
        "\n",
        "# show original image with detected faces\n",
        "cv2_imshow(original_image)"
      ],
      "metadata": {
        "id": "r4k-CR0L9aT2"
      },
      "execution_count": null,
      "outputs": []
    },
    {
      "cell_type": "markdown",
      "source": [
        "# Additional Resources\n",
        "\n",
        "If folks want to explore other tutorials on face detection in Python: \n",
        "- Shantnu Tiwari, [\"Face Recognition With Python\"](https://realpython.com/face-recognition-with-python/)\n",
        "- Shantnu Tiwari, [\"Face Detection in Python Using a Webcam\"](https://realpython.com/face-detection-in-python-using-a-webcam/), *Real Python*\n",
        "- Maël Fabien, [\"A Guide to Face Detection in Python (With Code)\"](https://towardsdatascience.com/a-guide-to-face-detection-in-python-3eab0f6b9fc1) *Towards Data Science* (4 April 2019)\n",
        "- Marcelo Rovai, [\"Real-Time Face Recognition: An End-To-End Project\"](https://towardsdatascience.com/real-time-face-recognition-an-end-to-end-project-b738bb0f7348) *Towards Data Science* (12 March 2018)\n",
        "- Great Learning Team, [\"Face Recognition with Python and OpenCV\"](https://www.mygreatlearning.com/blog/face-recognition/) *Great Learning* (18 January 2021)\n",
        "- Parul Pandey, [\"Face Detection With Python using OpenCV\"](https://www.datacamp.com/community/tutorials/face-detection-python-opencv) *DataCamp* (20 December 2018)"
      ],
      "metadata": {
        "id": "PBYPcoyvoqtp"
      }
    },
    {
      "cell_type": "markdown",
      "source": [
        "# Next Steps\n",
        "\n",
        "[Click here](https://github.com/kwaldenphd/facial-recognition#lab-notebook-components) to return to the main lab page."
      ],
      "metadata": {
        "id": "MY_KwEXaIQJz"
      }
    }
  ]
}